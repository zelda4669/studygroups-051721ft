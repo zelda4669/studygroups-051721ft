{
 "cells": [
  {
   "cell_type": "markdown",
   "id": "2e1ff4e5",
   "metadata": {},
   "source": [
    "# Pickling a Model\n",
    "\n",
    "- For productionalization & use outside your notebook!"
   ]
  },
  {
   "cell_type": "code",
   "execution_count": 1,
   "id": "cb9308a9",
   "metadata": {},
   "outputs": [],
   "source": [
    "import pandas as pd\n",
    "import numpy as np\n",
    "import matplotlib.pyplot as plt\n",
    "\n",
    "from sklearn.preprocessing import StandardScaler\n",
    "from sklearn.model_selection import train_test_split, GridSearchCV\n",
    "from sklearn.neighbors import KNeighborsClassifier\n",
    "from sklearn.ensemble import RandomForestClassifier\n",
    "from sklearn.naive_bayes import GaussianNB\n",
    "from sklearn.pipeline import Pipeline\n",
    "\n",
    "from sklearn.metrics import plot_confusion_matrix, classification_report\n",
    "\n",
    "df = pd.read_csv('data_banknote_authentication.csv')\n",
    "df.columns = [\"Variance\",\"Skewness\", \"Kurtosis\", \"Entropy\", \"Class\"]"
   ]
  },
  {
   "cell_type": "markdown",
   "id": "00ea2ff9",
   "metadata": {},
   "source": [
    "### 1. Pick your final model"
   ]
  },
  {
   "cell_type": "code",
   "execution_count": 2,
   "id": "f9345257",
   "metadata": {},
   "outputs": [],
   "source": [
    "X = df.drop('Class', axis=1)\n",
    "y = df['Class']\n",
    "X_train, X_test, y_train, y_test = train_test_split(X, y, test_size = 0.20) "
   ]
  },
  {
   "cell_type": "code",
   "execution_count": 3,
   "id": "c4e471a9",
   "metadata": {},
   "outputs": [],
   "source": [
    "pipeline = Pipeline([('ss', StandardScaler()), \n",
    "                    ('RF', RandomForestClassifier(random_state=123))])"
   ]
  },
  {
   "cell_type": "code",
   "execution_count": 4,
   "id": "b5c9e13c",
   "metadata": {},
   "outputs": [
    {
     "data": {
      "text/plain": [
       "Pipeline(steps=[('ss', StandardScaler()),\n",
       "                ('RF', RandomForestClassifier(random_state=123))])"
      ]
     },
     "execution_count": 4,
     "metadata": {},
     "output_type": "execute_result"
    }
   ],
   "source": [
    "pipeline.fit(X_train, y_train)"
   ]
  },
  {
   "cell_type": "code",
   "execution_count": 5,
   "id": "2ef6e0b6",
   "metadata": {},
   "outputs": [],
   "source": [
    "train_preds = pipeline.predict(X_train)\n",
    "test_preds = pipeline.predict(X_test)"
   ]
  },
  {
   "cell_type": "code",
   "execution_count": 6,
   "id": "91a7ccf3",
   "metadata": {},
   "outputs": [
    {
     "name": "stdout",
     "output_type": "stream",
     "text": [
      "              precision    recall  f1-score   support\n",
      "\n",
      "           0       1.00      1.00      1.00       618\n",
      "           1       1.00      1.00      1.00       478\n",
      "\n",
      "    accuracy                           1.00      1096\n",
      "   macro avg       1.00      1.00      1.00      1096\n",
      "weighted avg       1.00      1.00      1.00      1096\n",
      "\n",
      "              precision    recall  f1-score   support\n",
      "\n",
      "           0       0.99      1.00      0.99       143\n",
      "           1       1.00      0.98      0.99       132\n",
      "\n",
      "    accuracy                           0.99       275\n",
      "   macro avg       0.99      0.99      0.99       275\n",
      "weighted avg       0.99      0.99      0.99       275\n",
      "\n"
     ]
    }
   ],
   "source": [
    "print(classification_report(y_train, train_preds))\n",
    "print(classification_report(y_test, test_preds))"
   ]
  },
  {
   "cell_type": "code",
   "execution_count": 7,
   "id": "b818c335",
   "metadata": {},
   "outputs": [
    {
     "data": {
      "image/png": "[encoded data removed]",
      "text/plain": [
       "<Figure size 1440x576 with 4 Axes>"
      ]
     },
     "metadata": {
      "needs_background": "light"
     },
     "output_type": "display_data"
    }
   ],
   "source": [
    "fig, (ax0, ax1) = plt.subplots(1, 2, figsize=(20, 8))\n",
    "plot_confusion_matrix(pipeline, X_train, y_train, ax=ax0)\n",
    "plot_confusion_matrix(pipeline, X_test, y_test, ax=ax1)\n",
    "ax0.title.set_text('Train Confusion Matrix')\n",
    "ax1.title.set_text('Test Confusion Matrix')"
   ]
  },
  {
   "cell_type": "code",
   "execution_count": 8,
   "id": "0f1ee660",
   "metadata": {},
   "outputs": [],
   "source": [
    "import pickle\n",
    "\n",
    "# make sure your model has already been fit before you pickle it!!\n",
    "\n",
    "pickle.dump(pipeline, open(\"model.pkl\", \"wb\"))"
   ]
  },
  {
   "cell_type": "markdown",
   "id": "240fa2b2",
   "metadata": {},
   "source": [
    "### 2. How to make predictions?\n",
    "\n",
    "Dataset: https://archive.ics.uci.edu/ml/datasets/banknote+authentication"
   ]
  },
  {
   "cell_type": "code",
   "execution_count": 9,
   "id": "4608ab62",
   "metadata": {},
   "outputs": [
    {
     "data": {
      "text/html": [
       "<div>\n",
       "<style scoped>\n",
       "    .dataframe tbody tr th:only-of-type {\n",
       "        vertical-align: middle;\n",
       "    }\n",
       "\n",
       "    .dataframe tbody tr th {\n",
       "        vertical-align: top;\n",
       "    }\n",
       "\n",
       "    .dataframe thead th {\n",
       "        text-align: right;\n",
       "    }\n",
       "</style>\n",
       "<table border=\"1\" class=\"dataframe\">\n",
       "  <thead>\n",
       "    <tr style=\"text-align: right;\">\n",
       "      <th></th>\n",
       "      <th>Variance</th>\n",
       "      <th>Skewness</th>\n",
       "      <th>Kurtosis</th>\n",
       "      <th>Entropy</th>\n",
       "    </tr>\n",
       "  </thead>\n",
       "  <tbody>\n",
       "    <tr>\n",
       "      <th>count</th>\n",
       "      <td>1096.000000</td>\n",
       "      <td>1096.000000</td>\n",
       "      <td>1096.000000</td>\n",
       "      <td>1096.000000</td>\n",
       "    </tr>\n",
       "    <tr>\n",
       "      <th>mean</th>\n",
       "      <td>0.453809</td>\n",
       "      <td>1.919390</td>\n",
       "      <td>1.415208</td>\n",
       "      <td>-1.199459</td>\n",
       "    </tr>\n",
       "    <tr>\n",
       "      <th>std</th>\n",
       "      <td>2.844409</td>\n",
       "      <td>5.895593</td>\n",
       "      <td>4.299845</td>\n",
       "      <td>2.099685</td>\n",
       "    </tr>\n",
       "    <tr>\n",
       "      <th>min</th>\n",
       "      <td>-7.042100</td>\n",
       "      <td>-13.677900</td>\n",
       "      <td>-5.286100</td>\n",
       "      <td>-7.785300</td>\n",
       "    </tr>\n",
       "    <tr>\n",
       "      <th>25%</th>\n",
       "      <td>-1.759150</td>\n",
       "      <td>-1.866000</td>\n",
       "      <td>-1.547525</td>\n",
       "      <td>-2.344300</td>\n",
       "    </tr>\n",
       "    <tr>\n",
       "      <th>50%</th>\n",
       "      <td>0.535025</td>\n",
       "      <td>2.292750</td>\n",
       "      <td>0.629915</td>\n",
       "      <td>-0.580830</td>\n",
       "    </tr>\n",
       "    <tr>\n",
       "      <th>75%</th>\n",
       "      <td>2.852150</td>\n",
       "      <td>6.837925</td>\n",
       "      <td>3.318275</td>\n",
       "      <td>0.383818</td>\n",
       "    </tr>\n",
       "    <tr>\n",
       "      <th>max</th>\n",
       "      <td>6.091900</td>\n",
       "      <td>12.730200</td>\n",
       "      <td>17.677200</td>\n",
       "      <td>2.449500</td>\n",
       "    </tr>\n",
       "  </tbody>\n",
       "</table>\n",
       "</div>"
      ],
      "text/plain": [
       "          Variance     Skewness     Kurtosis      Entropy\n",
       "count  1096.000000  1096.000000  1096.000000  1096.000000\n",
       "mean      0.453809     1.919390     1.415208    -1.199459\n",
       "std       2.844409     5.895593     4.299845     2.099685\n",
       "min      -7.042100   -13.677900    -5.286100    -7.785300\n",
       "25%      -1.759150    -1.866000    -1.547525    -2.344300\n",
       "50%       0.535025     2.292750     0.629915    -0.580830\n",
       "75%       2.852150     6.837925     3.318275     0.383818\n",
       "max       6.091900    12.730200    17.677200     2.449500"
      ]
     },
     "execution_count": 9,
     "metadata": {},
     "output_type": "execute_result"
    }
   ],
   "source": [
    "X_train.describe()"
   ]
  },
  {
   "cell_type": "code",
   "execution_count": 10,
   "id": "b5f83e71",
   "metadata": {},
   "outputs": [
    {
     "data": {
      "text/plain": [
       "array([0])"
      ]
     },
     "execution_count": 10,
     "metadata": {},
     "output_type": "execute_result"
    }
   ],
   "source": [
    "pipeline.predict([[0.45, 1.99, 1.23, 0]])"
   ]
  },
  {
   "cell_type": "code",
   "execution_count": 11,
   "id": "e140b437",
   "metadata": {},
   "outputs": [],
   "source": [
    "# perhaps create a prediction function\n",
    "\n",
    "def make_prediction(model, var, skew, kurt, entropy):\n",
    "    \n",
    "    pred = model.predict([[var, skew, kurt, entropy]])\n",
    "    \n",
    "    if pred[0] == 0:\n",
    "        return 'Authentic'\n",
    "    else:\n",
    "        return 'Forged'"
   ]
  },
  {
   "cell_type": "code",
   "execution_count": 12,
   "id": "f3651a2b",
   "metadata": {
    "scrolled": true
   },
   "outputs": [
    {
     "data": {
      "text/plain": [
       "'Forged'"
      ]
     },
     "execution_count": 12,
     "metadata": {},
     "output_type": "execute_result"
    }
   ],
   "source": [
    "make_prediction(pipeline, 0, 0, 0, 0)"
   ]
  },
  {
   "cell_type": "markdown",
   "id": "6676d10e",
   "metadata": {},
   "source": [
    "### 3. Put it in a script!\n",
    "\n",
    "Reminder this is not necessary for the project, but good to know especially for the capstone!\n",
    "\n",
    "Check out `banknote_pred.py`"
   ]
  },
  {
   "cell_type": "code",
   "execution_count": 13,
   "id": "75258efa",
   "metadata": {},
   "outputs": [],
   "source": [
    "# code to open a pickle\n",
    "\n",
    "model = pickle.load(open(\"model.pkl\", \"rb\"))"
   ]
  },
  {
   "cell_type": "code",
   "execution_count": 14,
   "id": "b56448b6",
   "metadata": {},
   "outputs": [
    {
     "data": {
      "text/plain": [
       "'Forged'"
      ]
     },
     "execution_count": 14,
     "metadata": {},
     "output_type": "execute_result"
    }
   ],
   "source": [
    "make_prediction(model, 0, 0, 0, 0)"
   ]
  },
  {
   "cell_type": "code",
   "execution_count": null,
   "id": "074bb1f8",
   "metadata": {},
   "outputs": [],
   "source": []
  }
 ],
 "metadata": {
  "kernelspec": {
   "display_name": "Python 3",
   "language": "python",
   "name": "python3"
  },
  "language_info": {
   "codemirror_mode": {
    "name": "ipython",
    "version": 3
   },
   "file_extension": ".py",
   "mimetype": "text/x-python",
   "name": "python",
   "nbconvert_exporter": "python",
   "pygments_lexer": "ipython3",
   "version": "3.9.6"
  },
  "toc": {
   "base_numbering": 1,
   "nav_menu": {},
   "number_sections": false,
   "sideBar": true,
   "skip_h1_title": false,
   "title_cell": "Table of Contents",
   "title_sidebar": "Contents",
   "toc_cell": false,
   "toc_position": {},
   "toc_section_display": true,
   "toc_window_display": false
  }
 },
 "nbformat": 4,
 "nbformat_minor": 5
}

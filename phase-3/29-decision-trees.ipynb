{
 "cells": [
  {
   "cell_type": "markdown",
   "metadata": {},
   "source": [
    "# Topic 29: Decision Trees"
   ]
  },
  {
   "cell_type": "markdown",
   "metadata": {},
   "source": [
    "# Regression Tree"
   ]
  },
  {
   "cell_type": "code",
   "execution_count": null,
   "metadata": {
    "scrolled": false
   },
   "outputs": [],
   "source": [
    "# implementing the tree using scikit-learn\n",
    "import pandas as pd\n",
    "import numpy as np\n",
    "import seaborn as sns\n",
    "import matplotlib.pyplot as plt\n",
    "from sklearn.tree import DecisionTreeRegressor, DecisionTreeClassifier\n",
    "from sklearn.model_selection import train_test_split, cross_val_score\n",
    "import sklearn.datasets as datasets\n",
    "# from sklearn.externals.six import StringIO  \n",
    "from six import StringIO\n",
    "from IPython.display import Image  \n",
    "from sklearn.tree import export_graphviz\n",
    "import pydotplus\n",
    "from sklearn.metrics import mean_squared_error, accuracy_score\n",
    "df = pd.read_csv(\"resources/hitters.csv\")\n",
    "df.columns"
   ]
  },
  {
   "cell_type": "code",
   "execution_count": null,
   "metadata": {},
   "outputs": [],
   "source": [
    "df = df[['Hits','Years','Salary']].dropna(axis = 0)\n",
    "df"
   ]
  },
  {
   "cell_type": "code",
   "execution_count": null,
   "metadata": {
    "scrolled": false
   },
   "outputs": [],
   "source": [
    "# define dependent/independent variables\n",
    "\n",
    "X = df[['Hits','Years']]\n",
    "\n",
    "y = df.Salary\n"
   ]
  },
  {
   "cell_type": "code",
   "execution_count": null,
   "metadata": {},
   "outputs": [],
   "source": [
    "# splitting the data into training and testing set\n",
    "\n",
    "X_train, X_test, y_train, y_test = train_test_split(X,y,test_size = 0.2, random_state = 42)"
   ]
  },
  {
   "cell_type": "code",
   "execution_count": null,
   "metadata": {},
   "outputs": [],
   "source": [
    "# instantiate a regression instance\n",
    "regTree = DecisionTreeRegressor(max_depth = 5)\n",
    "\n",
    "# fit the tree\n",
    "regTree.fit(X_train,y_train)"
   ]
  },
  {
   "cell_type": "code",
   "execution_count": null,
   "metadata": {
    "scrolled": true
   },
   "outputs": [],
   "source": [
    "# visualizing the regression tree\n",
    "dot_data = StringIO()\n",
    "export_graphviz(regTree, out_file=dot_data,  \n",
    "                special_characters=True)\n",
    "graph = pydotplus.graph_from_dot_data(dot_data.getvalue())  \n",
    "Image(graph.create_png())"
   ]
  },
  {
   "cell_type": "code",
   "execution_count": null,
   "metadata": {},
   "outputs": [],
   "source": [
    "# use the model to predict the testing and compare mse\n",
    "regPred = regTree.predict(X_test)"
   ]
  },
  {
   "cell_type": "code",
   "execution_count": null,
   "metadata": {},
   "outputs": [],
   "source": [
    "# comparing the results and plot them \n",
    "mse = mean_squared_error(regPred, y_test)\n",
    "rmse = mse**0.5\n",
    "print('mse: ', mse, ' rmse: ', rmse)"
   ]
  },
  {
   "cell_type": "markdown",
   "metadata": {},
   "source": [
    "## Pruning\n",
    "\n",
    "- The best option to tune hyperparameter `max_depth` is to grow the tree very deep and prune it back to a _subtree_ by using cross-validation to find the lowest possible MSE, visualized with a __validation curve__ "
   ]
  },
  {
   "cell_type": "code",
   "execution_count": null,
   "metadata": {},
   "outputs": [],
   "source": [
    "depth_range = range(1,10)\n",
    "\n",
    "# save our MSE values\n",
    "mse = []\n",
    "\n",
    "for depth in depth_range:\n",
    "    regtree = DecisionTreeRegressor(max_depth = depth) # train a tree for each depth\n",
    "    depth_score = cross_val_score(regtree, X, y, scoring = 'neg_mean_squared_error', cv = 6)\n",
    "    mse.append(depth_score.mean())\n",
    "print(mse)\n",
    "\n",
    "mse = [abs(number) for number in mse]\n",
    "plt.figure(figsize = (10,10))\n",
    "plt.plot(depth_range, mse)\n",
    "plt.xlabel('range of depth')\n",
    "plt.ylabel('mse')\n",
    "plt.show()"
   ]
  },
  {
   "cell_type": "markdown",
   "metadata": {},
   "source": [
    "# Classification Tree\n",
    "Classification tree is very similar to regression tree--we use binary and recursive splitting in the feature space to group similar observations into regions. The difference is classification tree predict a **qualitative, or categorical** outcome.\n",
    "\n",
    "We predict that each observation belongs to the most ___commonly occuring class___ of training observations in the region it belongs to. "
   ]
  },
  {
   "cell_type": "code",
   "execution_count": null,
   "metadata": {},
   "outputs": [],
   "source": [
    "iris=datasets.load_iris()\n",
    "X_iris=pd.DataFrame(iris.data, columns=iris.feature_names)\n",
    "y_iris=iris.target"
   ]
  },
  {
   "cell_type": "code",
   "execution_count": null,
   "metadata": {
    "scrolled": false
   },
   "outputs": [],
   "source": [
    "# visualizing the iris dataset \n",
    "fig = plt.figure(figsize = (8,8))\n",
    "sns.scatterplot(x = X_iris['petal width (cm)'], y = X_iris['petal length (cm)'], hue = iris.target)"
   ]
  },
  {
   "cell_type": "code",
   "execution_count": null,
   "metadata": {},
   "outputs": [],
   "source": [
    "X_train_iris,X_test_iris,y_train_iris,y_test_iris = train_test_split(X_iris, y_iris, test_size = 0.2, random_state = 42)\n",
    "\n"
   ]
  },
  {
   "cell_type": "code",
   "execution_count": null,
   "metadata": {},
   "outputs": [],
   "source": [
    "ctree=DecisionTreeClassifier(max_depth = 2)\n",
    "ctree.fit(X_train_iris,y_train_iris)"
   ]
  },
  {
   "cell_type": "code",
   "execution_count": null,
   "metadata": {
    "scrolled": true
   },
   "outputs": [],
   "source": [
    "dot_data = StringIO()\n",
    "export_graphviz(ctree, out_file=dot_data,  \n",
    "                rounded=True,\n",
    "                special_characters=True)\n",
    "graph = pydotplus.graph_from_dot_data(dot_data.getvalue())  \n",
    "Image(graph.create_png())"
   ]
  },
  {
   "cell_type": "code",
   "execution_count": null,
   "metadata": {},
   "outputs": [],
   "source": [
    "clasPred = ctree.predict(X_test_iris)"
   ]
  },
  {
   "cell_type": "code",
   "execution_count": null,
   "metadata": {},
   "outputs": [],
   "source": [
    "accuracy_score(y_test_iris, clasPred)"
   ]
  },
  {
   "cell_type": "markdown",
   "metadata": {},
   "source": [
    "The ‘value’ row in each node tells us how many of the observations that were sorted into that node fall into each of our three categories. We can see that our feature X2, which is the petal length, was able to completely distinguish one species of flower (Iris-Setosa) from the rest."
   ]
  },
  {
   "cell_type": "code",
   "execution_count": null,
   "metadata": {
    "scrolled": false
   },
   "outputs": [],
   "source": [
    "score = cross_val_score(ctree, X_iris, y_iris, cv = 10)\n",
    "score.mean()\n",
    "depth_range = range(1,10)\n",
    "val = []\n",
    "for depth in depth_range:\n",
    "    ctree = DecisionTreeClassifier(max_depth = depth)\n",
    "    depth_score = cross_val_score(ctree, X_iris, y_iris, cv = 10)\n",
    "    val.append(depth_score.mean())\n",
    "print(val)\n",
    "plt.figure(figsize = (10,10))\n",
    "plt.plot(depth_range, val)\n",
    "plt.xlabel('range of depth')\n",
    "plt.ylabel('cross validated values')\n",
    "plt.show()"
   ]
  },
  {
   "cell_type": "markdown",
   "metadata": {},
   "source": [
    "# Resources\n",
    "\n",
    "### sklearn documentation on trees\n",
    "- regressor: https://scikit-learn.org/stable/modules/generated/sklearn.tree.DecisionTreeRegressor.html\n",
    "- classifier: https://scikit-learn.org/stable/modules/generated/sklearn.tree.DecisionTreeClassifier.html\n",
    "\n",
    "### videos\n",
    "- StatQuest Decision Trees: https://www.youtube.com/watch?v=7VeUPuFGJHk&t=190s\n",
    "- StatQuest Decision Trees 2: https://www.youtube.com/watch?v=wpNl-JwwplA\n",
    "- StatQuest Regressor Trees: https://www.youtube.com/watch?v=g9c66TUylZ4\n",
    "- StatQuest Pruning Regressor Trees: https://www.youtube.com/watch?v=D0efHEJsfHo&t=10s\n",
    "\n",
    "### best textbooks\n",
    "- Introduction to Statistical Learning: http://faculty.marshall.usc.edu/gareth-james/ISL/ISLR%20Seventh%20Printing.pdf\n",
    "- ISLR video series https://www.youtube.com/user/dataschool/playlists?view=50&sort=dd&shelf_id=4\n",
    "- Elements of Statistical Learning (more mathy): https://web.stanford.edu/~hastie/Papers/ESLII.pdf"
   ]
  }
 ],
 "metadata": {
  "kernelspec": {
   "display_name": "Python 3",
   "language": "python",
   "name": "python3"
  },
  "language_info": {
   "codemirror_mode": {
    "name": "ipython",
    "version": 3
   },
   "file_extension": ".py",
   "mimetype": "text/x-python",
   "name": "python",
   "nbconvert_exporter": "python",
   "pygments_lexer": "ipython3",
   "version": "3.9.6"
  },
  "toc": {
   "base_numbering": 1,
   "nav_menu": {},
   "number_sections": false,
   "sideBar": true,
   "skip_h1_title": false,
   "title_cell": "Table of Contents",
   "title_sidebar": "Contents",
   "toc_cell": false,
   "toc_position": {},
   "toc_section_display": true,
   "toc_window_display": true
  }
 },
 "nbformat": 4,
 "nbformat_minor": 2
}

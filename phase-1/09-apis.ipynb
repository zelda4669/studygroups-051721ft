{
 "cells": [
  {
   "cell_type": "markdown",
   "metadata": {},
   "source": [
    "# Topic 09: APIs"
   ]
  },
  {
   "cell_type": "markdown",
   "metadata": {},
   "source": [
    "## Introduction \n",
    "\n",
    "**_APIs_** (short for **_Application Programming Interfaces_**) are an important aspect of the modern internet. APIs are what allows everything on the internet to play nicely with each other and work together.\n",
    "\n",
    "### What is an API made of?\n",
    "\n",
    "APIs are very common in the tech world, which means that are many, many different kinds that you're going to run into. While each API you work with will be unique in some way, there are some common traits you can expect to see overall. An API has three main components as listed below:\n",
    "\n",
    "* **Access Permissions:** Is the user allowed to ask for data or services?\n",
    "* **Request:** The service being asked for (e.g., if I give you current location using GPS, tell me the map around that place - as we see in Pokemon Go).  A Request has two main parts:\n",
    "\n",
    "    * **Methods:** Once the access is permitted, what questions can be asked.\n",
    "    \n",
    "    * **Parameters:** Additional details that can be sent with requests or responses\n",
    "\n",
    "* **Response:** The data or service as a result of the request.\n",
    "\n",
    "We'll look more deeply at how to use these components in the upcoming lessons for this section. For now, our goal is to understand that APIs:\n",
    "\n",
    "* Provide a standardized way of letting us interact with 3rd party software/services\n",
    "* Consist of a **_Request_** and a **_Response_**\n",
    "* Can have special **_Access Permissions_** depending on the API and the user making the request. \n"
   ]
  },
  {
   "cell_type": "markdown",
   "metadata": {},
   "source": [
    "# The New York Times API\n",
    "\n",
    "NYT has [several different APIs](https://developer.nytimes.com/apis) for various data, let's look at the Movie Reviews API.\n",
    "\n",
    "<img src=\"images/nytimes_movie_schema_detailed.png\" width=500>\n",
    "\n",
    "More about the documentation [here](https://developer.nytimes.com/docs/movie-reviews-api/1/overview)."
   ]
  },
  {
   "cell_type": "markdown",
   "metadata": {},
   "source": [
    "## Getting Data from APIs: Requests\n",
    "\n",
    "`requests` is a third-party library that allows you to send HTTP requests using Python. With this library, you can access content like web page headers, form data, files, and parameters via simple Python commands. It also allows you to access the response data in a simple way.\n"
   ]
  },
  {
   "cell_type": "code",
   "execution_count": null,
   "metadata": {},
   "outputs": [],
   "source": [
    "import requests"
   ]
  },
  {
   "cell_type": "code",
   "execution_count": null,
   "metadata": {},
   "outputs": [],
   "source": [
    "response = requests.get('https://api.nytimes.com/svc/movies/v2/reviews/search.json?query=godfather&api-key=')"
   ]
  },
  {
   "cell_type": "code",
   "execution_count": null,
   "metadata": {},
   "outputs": [],
   "source": [
    "response.text"
   ]
  },
  {
   "cell_type": "markdown",
   "metadata": {},
   "source": [
    "## Response codes: \n",
    "\n",
    "https://en.wikipedia.org/wiki/List_of_HTTP_status_codes\n",
    "\n",
    "What is a 401?\n",
    "\n",
    "## API Keys!!\n",
    "\n",
    "https://developer.nytimes.com/get-started\n",
    "\n"
   ]
  },
  {
   "cell_type": "code",
   "execution_count": null,
   "metadata": {},
   "outputs": [],
   "source": [
    "response = requests.get('https://api.nytimes.com/svc/movies/v2/reviews/search.json?query=godfather&api-key={}'.format(yish_key))"
   ]
  },
  {
   "cell_type": "code",
   "execution_count": null,
   "metadata": {},
   "outputs": [],
   "source": [
    "response.json()"
   ]
  },
  {
   "cell_type": "markdown",
   "metadata": {},
   "source": [
    "### Should I publicly share my passwords on Github?\n",
    "\n",
    "When using an API that requires an API key and password you should **NEVER** hardcode theses values into your main file. When you upload your project onto github it is completely public and vulnerable to attack. Assume that if you put sensitive information publicly on the internet it will be found and abused. \n",
    "\n",
    "To this end, how can we easily access our API key without opening ourselves up to vulnerabilities?\n",
    "\n",
    "There are many ways to store sensitive information!\n",
    "\n",
    "1. Create a `config.py` file to store passwords\n",
    "2. Create a `.gitignore` on your GitHub repository"
   ]
  },
  {
   "cell_type": "code",
   "execution_count": null,
   "metadata": {},
   "outputs": [],
   "source": [
    "from config import yish_key, yish_secret"
   ]
  },
  {
   "cell_type": "code",
   "execution_count": null,
   "metadata": {},
   "outputs": [],
   "source": []
  },
  {
   "cell_type": "markdown",
   "metadata": {},
   "source": [
    "## Making API Requests\n",
    "\n",
    "Getting movie reviews from movies released in 2020."
   ]
  },
  {
   "cell_type": "code",
   "execution_count": null,
   "metadata": {},
   "outputs": [],
   "source": [
    "uri = 'https://api.nytimes.com/svc/movies/v2/reviews/search.json?opening-date=2020-01-01&api-key=' \n",
    "# uniform resource identifier"
   ]
  },
  {
   "cell_type": "code",
   "execution_count": null,
   "metadata": {},
   "outputs": [],
   "source": [
    "results = requests.get(uri+yish_key).json()\n",
    "len(results['results'])"
   ]
  },
  {
   "cell_type": "code",
   "execution_count": null,
   "metadata": {},
   "outputs": [],
   "source": [
    "results['results'][0].keys()"
   ]
  },
  {
   "cell_type": "code",
   "execution_count": null,
   "metadata": {},
   "outputs": [],
   "source": [
    "import pandas as pd"
   ]
  },
  {
   "cell_type": "code",
   "execution_count": null,
   "metadata": {},
   "outputs": [],
   "source": [
    "df = pd.DataFrame(results['results'])"
   ]
  },
  {
   "cell_type": "code",
   "execution_count": null,
   "metadata": {
    "scrolled": true
   },
   "outputs": [],
   "source": [
    "df"
   ]
  },
  {
   "cell_type": "markdown",
   "metadata": {},
   "source": [
    "## Pagination x Offset"
   ]
  },
  {
   "cell_type": "code",
   "execution_count": null,
   "metadata": {},
   "outputs": [],
   "source": [
    "uri2 = 'https://api.nytimes.com/svc/movies/v2/reviews/search.json?opening-date=2020-01-01&offset=20&api-key='\n",
    "\n",
    "results2 = requests.get(uri2+yish_key).json()\n",
    "results2\n"
   ]
  },
  {
   "cell_type": "code",
   "execution_count": null,
   "metadata": {},
   "outputs": [],
   "source": [
    "def get2020reviews(n): # where n is the number of reviews we want\n",
    "    results = []\n",
    "    for i in range(0, n//20):\n",
    "        if i != 0:\n",
    "            uri = 'https://api.nytimes.com/svc/movies/v2/reviews/search.json?opening-date=2020-01-01&offset={}&api-key='.format(n*20)\n",
    "        else:\n",
    "            uri = 'https://api.nytimes.com/svc/movies/v2/reviews/search.json?opening-date=2020-01-01&api-key='\n",
    "        \n",
    "        response = requests.get(uri+yish_key).json()\n",
    "        if response['status'] == 'OK':\n",
    "            results += response['results']\n",
    "            \n",
    "    return pd.DataFrame(results)\n",
    "        "
   ]
  },
  {
   "cell_type": "code",
   "execution_count": null,
   "metadata": {},
   "outputs": [],
   "source": [
    "get2020reviews(4)"
   ]
  },
  {
   "cell_type": "code",
   "execution_count": null,
   "metadata": {},
   "outputs": [],
   "source": []
  }
 ],
 "metadata": {
  "kernelspec": {
   "display_name": "Python 3",
   "language": "python",
   "name": "python3"
  },
  "language_info": {
   "codemirror_mode": {
    "name": "ipython",
    "version": 3
   },
   "file_extension": ".py",
   "mimetype": "text/x-python",
   "name": "python",
   "nbconvert_exporter": "python",
   "pygments_lexer": "ipython3",
   "version": "3.9.4"
  },
  "toc": {
   "base_numbering": 1,
   "nav_menu": {},
   "number_sections": false,
   "sideBar": true,
   "skip_h1_title": false,
   "title_cell": "Table of Contents",
   "title_sidebar": "Contents",
   "toc_cell": false,
   "toc_position": {},
   "toc_section_display": true,
   "toc_window_display": true
  }
 },
 "nbformat": 4,
 "nbformat_minor": 2
}

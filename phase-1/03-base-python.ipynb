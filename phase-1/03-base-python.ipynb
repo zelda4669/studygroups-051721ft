{
 "cells": [
  {
   "cell_type": "markdown",
   "metadata": {},
   "source": [
    "# Topic 03: Data Analysis in Base Python"
   ]
  },
  {
   "cell_type": "markdown",
   "metadata": {},
   "source": [
    "### Lambdas\n",
    "\n",
    "For sorting, maps, and filters."
   ]
  },
  {
   "cell_type": "code",
   "execution_count": null,
   "metadata": {},
   "outputs": [],
   "source": [
    "# 1. Sorting!! \n",
    "\n",
    "import requests\n",
    "macbeth = requests.get('http://www.gutenberg.org/cache/epub/2264/pg2264.txt').text\n",
    "# Split the transcript into words\n",
    "words = macbeth.split()\n",
    "# Create a dictionary\n",
    "word_counts = {}\n",
    "# Iterate through the text of Macbeth\n",
    "for word in words:\n",
    "    # Update word counts\n",
    "    word_counts[word] = word_counts.get(word, 0) + 1 #Get previous entry, update by 1\n",
    "# Convert to a list\n",
    "counts = list(word_counts.items())\n"
   ]
  },
  {
   "cell_type": "code",
   "execution_count": null,
   "metadata": {},
   "outputs": [],
   "source": [
    "counts"
   ]
  },
  {
   "cell_type": "code",
   "execution_count": null,
   "metadata": {},
   "outputs": [],
   "source": [
    "# Sort words by count\n",
    "top_25 = sorted(counts, key = lambda x: x[1], reverse=True)[:25] # x[1] points to the second element in each tuple"
   ]
  },
  {
   "cell_type": "code",
   "execution_count": null,
   "metadata": {},
   "outputs": [],
   "source": [
    "# 2. Maps and filters\n",
    "\n",
    "l = [1, 2, 3, 4, 5, 6]"
   ]
  },
  {
   "cell_type": "code",
   "execution_count": null,
   "metadata": {},
   "outputs": [],
   "source": [
    "list(map(lambda x: x + 2, l)) # MAPPING x + 2 to every element of the list"
   ]
  },
  {
   "cell_type": "code",
   "execution_count": null,
   "metadata": {},
   "outputs": [],
   "source": [
    "list(filter(lambda x: x%2 == 0, l)) # FILTERING and only keeping elements that satisfy the condition"
   ]
  },
  {
   "cell_type": "markdown",
   "metadata": {},
   "source": [
    "## Making Lists from Lists\n",
    "List comprehension (and dictionary comprehension!)"
   ]
  },
  {
   "cell_type": "code",
   "execution_count": null,
   "metadata": {},
   "outputs": [],
   "source": [
    "new = []\n",
    "for x in l:\n",
    "    new.append(x+2)\n",
    "new"
   ]
  },
  {
   "cell_type": "code",
   "execution_count": null,
   "metadata": {},
   "outputs": [],
   "source": [
    "[x+2 for x in l]"
   ]
  },
  {
   "cell_type": "code",
   "execution_count": null,
   "metadata": {
    "scrolled": true
   },
   "outputs": [],
   "source": [
    "{x: x+1 for x in l}"
   ]
  },
  {
   "cell_type": "code",
   "execution_count": null,
   "metadata": {},
   "outputs": [],
   "source": [
    "[x+2 for x in l if x%2==0] # adding a condition to only do x+2 if x is even"
   ]
  },
  {
   "cell_type": "markdown",
   "metadata": {},
   "source": [
    "## Nested Dictionaries\n",
    "\n",
    "Nested dictionaries are a very common data structure, especially once you start working with JSON and APIs."
   ]
  },
  {
   "cell_type": "code",
   "execution_count": null,
   "metadata": {},
   "outputs": [],
   "source": [
    "soccer_match = [\n",
    "  { \"home_team\": True,\n",
    "    \"away_team\": False,\n",
    "    \"country\": \"France\",\n",
    "    \"num_passes\": 484,\n",
    "    \"passes_completed\": 423,\n",
    "    \"fouls_committed\": 16,\n",
    "    \"colors\": [\"blue\", \"white\", \"red\"],\n",
    "    \"players\": [\n",
    "      {\n",
    "        \"name\": \"Hugo LLORIS\",\n",
    "        \"captain\": True,\n",
    "        \"shirt_number\": 1,\n",
    "        \"position\": \"Goalie\"\n",
    "      },\n",
    "      {\n",
    "        \"name\": \"Benjamin PAVARD\",\n",
    "        \"captain\": False,\n",
    "        \"shirt_number\": 2,\n",
    "        \"position\": \"Defender\"\n",
    "      },\n",
    "      {\n",
    "        \"name\": \"Raphael VARANE\",\n",
    "        \"captain\": False,\n",
    "        \"shirt_number\": 4,\n",
    "        \"position\": \"Defender\"\n",
    "      },\n",
    "      {\n",
    "        \"name\": \"Samuel UMTITI\",\n",
    "        \"captain\": False,\n",
    "        \"shirt_number\": 5,\n",
    "        \"position\": \"Defender\"\n",
    "      },\n",
    "      {\n",
    "        \"name\": \"Paul POGBA\",\n",
    "        \"captain\": False,\n",
    "        \"shirt_number\": 6,\n",
    "        \"position\": \"Midfield\"\n",
    "      },\n",
    "      {\n",
    "        \"name\": \"Antoine GRIEZMANN\",\n",
    "        \"captain\": False,\n",
    "        \"shirt_number\": 7,\n",
    "        \"position\": \"Forward\"\n",
    "      },\n",
    "      {\n",
    "        \"name\": \"Kylian MBAPPE\",\n",
    "        \"captain\": False,\n",
    "        \"shirt_number\": 10,\n",
    "        \"position\": \"Forward\"\n",
    "      },\n",
    "      {\n",
    "        \"name\": \"Ousmane DEMBELE\",\n",
    "        \"captain\": False,\n",
    "        \"shirt_number\": 11,\n",
    "        \"position\": \"Forward\"\n",
    "      },\n",
    "      {\n",
    "        \"name\": \"Corentin TOLISSO\",\n",
    "        \"captain\": False,\n",
    "        \"shirt_number\": 12,\n",
    "        \"position\": \"Midfield\"\n",
    "      },\n",
    "      {\n",
    "        \"name\": \"Ngolo KANTE\",\n",
    "        \"captain\": False,\n",
    "        \"shirt_number\": 13,\n",
    "        \"position\": \"Midfield\"\n",
    "      },\n",
    "      {\n",
    "        \"name\": \"Lucas HERNANDEZ\",\n",
    "        \"captain\": False,\n",
    "        \"shirt_number\": 21,\n",
    "        \"position\": \"Defender\"\n",
    "      }\n",
    "    ],\n",
    "  },\n",
    "  { \"home_team\": False,\n",
    "    \"away_team\": True,\n",
    "    \"country\": \"Australia\",\n",
    "    \"num_passes\": 390,\n",
    "    \"passes_completed\": 332,\n",
    "    \"fouls_committed\": 19,\n",
    "    \"colors\": [\"green\", \"gold\"],\n",
    "    \"players\": [\n",
    "      {\n",
    "        \"name\": \"Mathew RYAN\",\n",
    "        \"captain\": False,\n",
    "        \"shirt_number\": 1,\n",
    "        \"position\": \"Goalie\"\n",
    "      },\n",
    "      {\n",
    "        \"name\": \"Mark MILLIGAN\",\n",
    "        \"captain\": False,\n",
    "        \"shirt_number\": 5,\n",
    "        \"position\": \"Defender\"\n",
    "      },\n",
    "      {\n",
    "        \"name\": \"Mathew LECKIE\",\n",
    "        \"captain\": False,\n",
    "        \"shirt_number\": 7,\n",
    "        \"position\": \"Forward\"\n",
    "      },\n",
    "      {\n",
    "        \"name\": \"Robbie KRUSE\",\n",
    "        \"captain\": False,\n",
    "        \"shirt_number\": 10,\n",
    "        \"position\": \"Forward\"\n",
    "      },\n",
    "      {\n",
    "        \"name\": \"Andrew NABBOUT\",\n",
    "        \"captain\": False,\n",
    "        \"shirt_number\": 11,\n",
    "        \"position\": \"Forward\"\n",
    "      },\n",
    "      {\n",
    "        \"name\": \"Aaron MOOY\",\n",
    "        \"captain\": False,\n",
    "        \"shirt_number\": 13,\n",
    "        \"position\": \"Midfield\"\n",
    "      },\n",
    "      {\n",
    "        \"name\": \"Mile JEDINAK\",\n",
    "        \"captain\": True,\n",
    "        \"shirt_number\": 15,\n",
    "        \"position\": \"Midfield\"\n",
    "      },\n",
    "      {\n",
    "        \"name\": \"Aziz BEHICH\",\n",
    "        \"captain\": False,\n",
    "        \"shirt_number\": 16,\n",
    "        \"position\": \"Defender\"\n",
    "      },\n",
    "      {\n",
    "        \"name\": \"Joshua RISDON\",\n",
    "        \"captain\": False,\n",
    "        \"shirt_number\": 19,\n",
    "        \"position\": \"Defender\"\n",
    "      },\n",
    "      {\n",
    "        \"name\": \"Trent SAINSBURY\",\n",
    "        \"captain\": False,\n",
    "        \"shirt_number\": 20,\n",
    "        \"position\": \"Defender\"\n",
    "      },\n",
    "      {\n",
    "        \"name\": \"Tom ROGIC\",\n",
    "        \"captain\": False,\n",
    "        \"shirt_number\": 23,\n",
    "        \"position\": \"Midfield\"\n",
    "      }\n",
    "    ]\n",
    "  }\n",
    "]"
   ]
  },
  {
   "cell_type": "code",
   "execution_count": null,
   "metadata": {},
   "outputs": [],
   "source": [
    "# explore the data - its schema\n",
    "print(type(soccer_match))\n",
    "print(len(soccer_match))\n",
    "\n",
    "print(soccer_match[0])\n"
   ]
  },
  {
   "cell_type": "markdown",
   "metadata": {},
   "source": [
    "#### Write a function that counts how many players have even shirt numbers:\n",
    "\n",
    "Hints to make your life easier: \n",
    "- What is annoying about the data in the structure it currently is in?\n",
    "- You can 100% write code to change the data to make it easier to work with\n",
    "- You can write **helper functions** to do this task"
   ]
  },
  {
   "cell_type": "code",
   "execution_count": null,
   "metadata": {},
   "outputs": [],
   "source": []
  },
  {
   "cell_type": "markdown",
   "metadata": {},
   "source": [
    "#### Write a function that appends player names and shirt numbers to a list until the sum of shirt numbers reach 100:"
   ]
  },
  {
   "cell_type": "code",
   "execution_count": null,
   "metadata": {},
   "outputs": [],
   "source": []
  },
  {
   "cell_type": "markdown",
   "metadata": {},
   "source": [
    "## Reading a JSON Schema\n",
    "\n",
    "Here's the JSON schema provided for a section of the NY Times API:\n",
    "\n",
    "<img src=\"images/schema_detailed.png\" width=\"300\">"
   ]
  },
  {
   "cell_type": "code",
   "execution_count": null,
   "metadata": {},
   "outputs": [],
   "source": [
    "import json\n",
    "\n",
    "# here's how we open a file in Python\n",
    "f = open('ny_times_response.json', 'r')\n",
    "data = json.load(f)"
   ]
  },
  {
   "cell_type": "code",
   "execution_count": null,
   "metadata": {},
   "outputs": [],
   "source": [
    "print(type(data))\n",
    "print(data.keys())"
   ]
  },
  {
   "cell_type": "markdown",
   "metadata": {},
   "source": [
    "### Getting New York Times Headlines"
   ]
  },
  {
   "cell_type": "code",
   "execution_count": null,
   "metadata": {},
   "outputs": [],
   "source": [
    "data['response']['docs'][0].keys()"
   ]
  },
  {
   "cell_type": "code",
   "execution_count": null,
   "metadata": {},
   "outputs": [],
   "source": [
    "docs = data['response']['docs']\n",
    "print(type(docs), len(docs))"
   ]
  },
  {
   "cell_type": "code",
   "execution_count": null,
   "metadata": {},
   "outputs": [],
   "source": [
    "for doc in docs:\n",
    "    print(doc['headline'])"
   ]
  },
  {
   "cell_type": "code",
   "execution_count": null,
   "metadata": {},
   "outputs": [],
   "source": [
    "for doc in docs:\n",
    "    print(doc['headline']['main'])\n",
    "    print('\\n')"
   ]
  },
  {
   "cell_type": "markdown",
   "metadata": {},
   "source": [
    "### Turning JSON into DataFrames\n",
    "\n",
    "Pandas can take a **list** of **dictionaries** and automatically format that into a DataFrame, where keys become column headers. However, note what **headline** looks like."
   ]
  },
  {
   "cell_type": "code",
   "execution_count": null,
   "metadata": {},
   "outputs": [],
   "source": [
    "import pandas as pd"
   ]
  },
  {
   "cell_type": "code",
   "execution_count": null,
   "metadata": {},
   "outputs": [],
   "source": [
    "df = pd.DataFrame(data['response']['docs'])\n",
    "df"
   ]
  },
  {
   "cell_type": "code",
   "execution_count": null,
   "metadata": {
    "scrolled": true
   },
   "outputs": [],
   "source": [
    "keys = df.headline.iloc[0].keys() #Get dictionary keys\n",
    "\n",
    "# Keep track of columns we make for subsequent preview\n",
    "new_cols = []\n",
    "\n",
    "# Create a new feature for each of these keys\n",
    "# we'll talk about this code more in Topic 4/5!\n",
    "\n",
    "for key in keys:\n",
    "    new_col = f'headline_{key}' #Create new column name\n",
    "    df[new_col] = df.headline.map(lambda x: x[key]) #Create a new column\n",
    "    new_cols.append(new_col)\n",
    "df[new_cols].head()"
   ]
  },
  {
   "cell_type": "code",
   "execution_count": null,
   "metadata": {},
   "outputs": [],
   "source": [
    "# here's the code to output a JSON file\n",
    "# or to output any dictionary you have as a JSON file\n",
    "\n",
    "with open('soccer.json', 'w') as f:\n",
    "    json.dump(soccer_match, f)"
   ]
  }
 ],
 "metadata": {
  "kernelspec": {
   "display_name": "Python 3",
   "language": "python",
   "name": "python3"
  },
  "language_info": {
   "codemirror_mode": {
    "name": "ipython",
    "version": 3
   },
   "file_extension": ".py",
   "mimetype": "text/x-python",
   "name": "python",
   "nbconvert_exporter": "python",
   "pygments_lexer": "ipython3",
   "version": "3.9.4"
  },
  "toc": {
   "base_numbering": 1,
   "nav_menu": {},
   "number_sections": false,
   "sideBar": true,
   "skip_h1_title": false,
   "title_cell": "Table of Contents",
   "title_sidebar": "Contents",
   "toc_cell": false,
   "toc_position": {},
   "toc_section_display": true,
   "toc_window_display": true
  }
 },
 "nbformat": 4,
 "nbformat_minor": 4
}

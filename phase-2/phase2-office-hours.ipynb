{
 "cells": [
  {
   "cell_type": "code",
   "execution_count": 1,
   "id": "2d245ba5",
   "metadata": {},
   "outputs": [],
   "source": [
    "import pandas as pd\n",
    "import numpy as np\n",
    "\n",
    "import statsmodels.api as sm\n",
    "from statsmodels.formula.api import ols\n",
    "\n",
    "from sklearn.model_selection import train_test_split\n",
    "from sklearn.metrics import mean_squared_error\n",
    "from sklearn.linear_model import LinearRegression"
   ]
  },
  {
   "cell_type": "markdown",
   "id": "e54a6a3b",
   "metadata": {
    "heading_collapsed": true
   },
   "source": [
    "### Some Regressions"
   ]
  },
  {
   "cell_type": "code",
   "execution_count": 2,
   "id": "228835b6",
   "metadata": {
    "hidden": true
   },
   "outputs": [],
   "source": [
    "data = pd.read_csv('auto-mpg.csv')\n",
    "y = data[['mpg']]\n",
    "X = data[['cylinders', 'displacement', 'horsepower', 'weight', 'acceleration']]"
   ]
  },
  {
   "cell_type": "code",
   "execution_count": 3,
   "id": "2fa9d79e",
   "metadata": {
    "hidden": true
   },
   "outputs": [
    {
     "data": {
      "text/html": [
       "<table class=\"simpletable\">\n",
       "<caption>OLS Regression Results</caption>\n",
       "<tr>\n",
       "  <th>Dep. Variable:</th>           <td>mpg</td>       <th>  R-squared:         </th> <td>   0.707</td> \n",
       "</tr>\n",
       "<tr>\n",
       "  <th>Model:</th>                   <td>OLS</td>       <th>  Adj. R-squared:    </th> <td>   0.704</td> \n",
       "</tr>\n",
       "<tr>\n",
       "  <th>Method:</th>             <td>Least Squares</td>  <th>  F-statistic:       </th> <td>   233.4</td> \n",
       "</tr>\n",
       "<tr>\n",
       "  <th>Date:</th>             <td>Thu, 08 Jul 2021</td> <th>  Prob (F-statistic):</th> <td>9.63e-102</td>\n",
       "</tr>\n",
       "<tr>\n",
       "  <th>Time:</th>                 <td>14:26:05</td>     <th>  Log-Likelihood:    </th> <td> -1120.6</td> \n",
       "</tr>\n",
       "<tr>\n",
       "  <th>No. Observations:</th>      <td>   392</td>      <th>  AIC:               </th> <td>   2251.</td> \n",
       "</tr>\n",
       "<tr>\n",
       "  <th>Df Residuals:</th>          <td>   387</td>      <th>  BIC:               </th> <td>   2271.</td> \n",
       "</tr>\n",
       "<tr>\n",
       "  <th>Df Model:</th>              <td>     4</td>      <th>                     </th>     <td> </td>    \n",
       "</tr>\n",
       "<tr>\n",
       "  <th>Covariance Type:</th>      <td>nonrobust</td>    <th>                     </th>     <td> </td>    \n",
       "</tr>\n",
       "</table>\n",
       "<table class=\"simpletable\">\n",
       "<tr>\n",
       "        <td></td>          <th>coef</th>     <th>std err</th>      <th>t</th>      <th>P>|t|</th>  <th>[0.025</th>    <th>0.975]</th>  \n",
       "</tr>\n",
       "<tr>\n",
       "  <th>Intercept</th>    <td>   45.2511</td> <td>    2.456</td> <td>   18.424</td> <td> 0.000</td> <td>   40.422</td> <td>   50.080</td>\n",
       "</tr>\n",
       "<tr>\n",
       "  <th>acceleration</th> <td>   -0.0231</td> <td>    0.126</td> <td>   -0.184</td> <td> 0.854</td> <td>   -0.270</td> <td>    0.224</td>\n",
       "</tr>\n",
       "<tr>\n",
       "  <th>weight</th>       <td>   -0.0053</td> <td>    0.001</td> <td>   -6.512</td> <td> 0.000</td> <td>   -0.007</td> <td>   -0.004</td>\n",
       "</tr>\n",
       "<tr>\n",
       "  <th>horsepower</th>   <td>   -0.0436</td> <td>    0.017</td> <td>   -2.631</td> <td> 0.009</td> <td>   -0.076</td> <td>   -0.011</td>\n",
       "</tr>\n",
       "<tr>\n",
       "  <th>displacement</th> <td>   -0.0060</td> <td>    0.007</td> <td>   -0.894</td> <td> 0.372</td> <td>   -0.019</td> <td>    0.007</td>\n",
       "</tr>\n",
       "</table>\n",
       "<table class=\"simpletable\">\n",
       "<tr>\n",
       "  <th>Omnibus:</th>       <td>38.359</td> <th>  Durbin-Watson:     </th> <td>   0.861</td>\n",
       "</tr>\n",
       "<tr>\n",
       "  <th>Prob(Omnibus):</th> <td> 0.000</td> <th>  Jarque-Bera (JB):  </th> <td>  51.333</td>\n",
       "</tr>\n",
       "<tr>\n",
       "  <th>Skew:</th>          <td> 0.715</td> <th>  Prob(JB):          </th> <td>7.13e-12</td>\n",
       "</tr>\n",
       "<tr>\n",
       "  <th>Kurtosis:</th>      <td> 4.049</td> <th>  Cond. No.          </th> <td>3.56e+04</td>\n",
       "</tr>\n",
       "</table><br/><br/>Notes:<br/>[1] Standard Errors assume that the covariance matrix of the errors is correctly specified.<br/>[2] The condition number is large, 3.56e+04. This might indicate that there are<br/>strong multicollinearity or other numerical problems."
      ],
      "text/plain": [
       "<class 'statsmodels.iolib.summary.Summary'>\n",
       "\"\"\"\n",
       "                            OLS Regression Results                            \n",
       "==============================================================================\n",
       "Dep. Variable:                    mpg   R-squared:                       0.707\n",
       "Model:                            OLS   Adj. R-squared:                  0.704\n",
       "Method:                 Least Squares   F-statistic:                     233.4\n",
       "Date:                Thu, 08 Jul 2021   Prob (F-statistic):          9.63e-102\n",
       "Time:                        14:26:05   Log-Likelihood:                -1120.6\n",
       "No. Observations:                 392   AIC:                             2251.\n",
       "Df Residuals:                     387   BIC:                             2271.\n",
       "Df Model:                           4                                         \n",
       "Covariance Type:            nonrobust                                         \n",
       "================================================================================\n",
       "                   coef    std err          t      P>|t|      [0.025      0.975]\n",
       "--------------------------------------------------------------------------------\n",
       "Intercept       45.2511      2.456     18.424      0.000      40.422      50.080\n",
       "acceleration    -0.0231      0.126     -0.184      0.854      -0.270       0.224\n",
       "weight          -0.0053      0.001     -6.512      0.000      -0.007      -0.004\n",
       "horsepower      -0.0436      0.017     -2.631      0.009      -0.076      -0.011\n",
       "displacement    -0.0060      0.007     -0.894      0.372      -0.019       0.007\n",
       "==============================================================================\n",
       "Omnibus:                       38.359   Durbin-Watson:                   0.861\n",
       "Prob(Omnibus):                  0.000   Jarque-Bera (JB):               51.333\n",
       "Skew:                           0.715   Prob(JB):                     7.13e-12\n",
       "Kurtosis:                       4.049   Cond. No.                     3.56e+04\n",
       "==============================================================================\n",
       "\n",
       "Notes:\n",
       "[1] Standard Errors assume that the covariance matrix of the errors is correctly specified.\n",
       "[2] The condition number is large, 3.56e+04. This might indicate that there are\n",
       "strong multicollinearity or other numerical problems.\n",
       "\"\"\""
      ]
     },
     "execution_count": 3,
     "metadata": {},
     "output_type": "execute_result"
    }
   ],
   "source": [
    "formula = 'mpg ~ acceleration+weight+horsepower+displacement'\n",
    "model = ols(formula=formula, data=data).fit()\n",
    "model.summary()"
   ]
  },
  {
   "cell_type": "code",
   "execution_count": 4,
   "id": "fb61024c",
   "metadata": {
    "hidden": true
   },
   "outputs": [
    {
     "name": "stdout",
     "output_type": "stream",
     "text": [
      "Train R2:  0.717354783050516\n",
      "Test R2:  0.6552610550724041\n",
      "Train RMSE:  4.193630503201304\n",
      "Test RMSE:  4.352872084142281\n"
     ]
    }
   ],
   "source": [
    "linreg = LinearRegression()\n",
    "X_train, X_test, y_train, y_test = train_test_split(X, y, test_size=0.2)\n",
    "linreg.fit(X_train, y_train)\n",
    "\n",
    "y_hat_train = linreg.predict(X_train)\n",
    "y_hat_test = linreg.predict(X_test)\n",
    "\n",
    "train_mse = mean_squared_error(y_train, y_hat_train)\n",
    "test_mse = mean_squared_error(y_test, y_hat_test)\n",
    "\n",
    "print(\"Train R2: \", linreg.score(X_train, y_train))\n",
    "print(\"Test R2: \", linreg.score(X_test, y_test))\n",
    "\n",
    "print(\"Train RMSE: \", train_mse**0.5)\n",
    "print(\"Test RMSE: \", test_mse**0.5)"
   ]
  },
  {
   "cell_type": "code",
   "execution_count": 5,
   "id": "bf17ca3b",
   "metadata": {
    "hidden": true
   },
   "outputs": [
    {
     "data": {
      "text/plain": [
       "array([[-0.49350358,  0.00456885, -0.04121873, -0.00581742,  0.01866959]])"
      ]
     },
     "execution_count": 5,
     "metadata": {},
     "output_type": "execute_result"
    }
   ],
   "source": [
    "linreg.coef_"
   ]
  },
  {
   "cell_type": "code",
   "execution_count": 6,
   "id": "850e102e",
   "metadata": {
    "hidden": true
   },
   "outputs": [],
   "source": [
    "def model(X_train, X_test, y_train, y_test):\n",
    "    \n",
    "    # statsmodels\n",
    "    features = X_train.copy()\n",
    "    features['mpg'] = y_train\n",
    "    \n",
    "    formula = 'mpg~' + '+'.join(X_train.columns)\n",
    "    model = ols(formula=formula, data=features).fit()\n",
    "    \n",
    "    #sklearn\n",
    "    linreg = LinearRegression()\n",
    "    linreg.fit(X_train, y_train)\n",
    "    \n",
    "    y_hat_train = linreg.predict(X_train)\n",
    "    y_hat_test = linreg.predict(X_test)\n",
    "\n",
    "    train_mse = mean_squared_error(y_train, y_hat_train)\n",
    "    test_mse = mean_squared_error(y_test, y_hat_test)\n",
    "\n",
    "    print(\"Train R2: \", linreg.score(X_train, y_train))\n",
    "    print(\"Test R2: \", linreg.score(X_test, y_test))\n",
    "\n",
    "    print(\"Train RMSE: \", train_mse**0.5)\n",
    "    print(\"Test RMSE: \", test_mse**0.5)\n",
    "    \n",
    "    return model.summary()"
   ]
  },
  {
   "cell_type": "code",
   "execution_count": 7,
   "id": "5bbddab8",
   "metadata": {
    "hidden": true
   },
   "outputs": [
    {
     "name": "stdout",
     "output_type": "stream",
     "text": [
      "Train R2:  0.717354783050516\n",
      "Test R2:  0.6552610550724041\n",
      "Train RMSE:  4.193630503201304\n",
      "Test RMSE:  4.352872084142281\n"
     ]
    },
    {
     "data": {
      "text/html": [
       "<table class=\"simpletable\">\n",
       "<caption>OLS Regression Results</caption>\n",
       "<tr>\n",
       "  <th>Dep. Variable:</th>           <td>mpg</td>       <th>  R-squared:         </th> <td>   0.717</td>\n",
       "</tr>\n",
       "<tr>\n",
       "  <th>Model:</th>                   <td>OLS</td>       <th>  Adj. R-squared:    </th> <td>   0.713</td>\n",
       "</tr>\n",
       "<tr>\n",
       "  <th>Method:</th>             <td>Least Squares</td>  <th>  F-statistic:       </th> <td>   155.8</td>\n",
       "</tr>\n",
       "<tr>\n",
       "  <th>Date:</th>             <td>Thu, 08 Jul 2021</td> <th>  Prob (F-statistic):</th> <td>5.15e-82</td>\n",
       "</tr>\n",
       "<tr>\n",
       "  <th>Time:</th>                 <td>14:26:05</td>     <th>  Log-Likelihood:    </th> <td> -892.83</td>\n",
       "</tr>\n",
       "<tr>\n",
       "  <th>No. Observations:</th>      <td>   313</td>      <th>  AIC:               </th> <td>   1798.</td>\n",
       "</tr>\n",
       "<tr>\n",
       "  <th>Df Residuals:</th>          <td>   307</td>      <th>  BIC:               </th> <td>   1820.</td>\n",
       "</tr>\n",
       "<tr>\n",
       "  <th>Df Model:</th>              <td>     5</td>      <th>                     </th>     <td> </td>   \n",
       "</tr>\n",
       "<tr>\n",
       "  <th>Covariance Type:</th>      <td>nonrobust</td>    <th>                     </th>     <td> </td>   \n",
       "</tr>\n",
       "</table>\n",
       "<table class=\"simpletable\">\n",
       "<tr>\n",
       "        <td></td>          <th>coef</th>     <th>std err</th>      <th>t</th>      <th>P>|t|</th>  <th>[0.025</th>    <th>0.975]</th>  \n",
       "</tr>\n",
       "<tr>\n",
       "  <th>Intercept</th>    <td>   46.8339</td> <td>    2.931</td> <td>   15.977</td> <td> 0.000</td> <td>   41.066</td> <td>   52.602</td>\n",
       "</tr>\n",
       "<tr>\n",
       "  <th>cylinders</th>    <td>   -0.4935</td> <td>    0.466</td> <td>   -1.059</td> <td> 0.290</td> <td>   -1.410</td> <td>    0.423</td>\n",
       "</tr>\n",
       "<tr>\n",
       "  <th>displacement</th> <td>    0.0046</td> <td>    0.010</td> <td>    0.443</td> <td> 0.658</td> <td>   -0.016</td> <td>    0.025</td>\n",
       "</tr>\n",
       "<tr>\n",
       "  <th>horsepower</th>   <td>   -0.0412</td> <td>    0.019</td> <td>   -2.190</td> <td> 0.029</td> <td>   -0.078</td> <td>   -0.004</td>\n",
       "</tr>\n",
       "<tr>\n",
       "  <th>weight</th>       <td>   -0.0058</td> <td>    0.001</td> <td>   -6.100</td> <td> 0.000</td> <td>   -0.008</td> <td>   -0.004</td>\n",
       "</tr>\n",
       "<tr>\n",
       "  <th>acceleration</th> <td>    0.0187</td> <td>    0.142</td> <td>    0.132</td> <td> 0.895</td> <td>   -0.260</td> <td>    0.298</td>\n",
       "</tr>\n",
       "</table>\n",
       "<table class=\"simpletable\">\n",
       "<tr>\n",
       "  <th>Omnibus:</th>       <td>37.720</td> <th>  Durbin-Watson:     </th> <td>   1.991</td>\n",
       "</tr>\n",
       "<tr>\n",
       "  <th>Prob(Omnibus):</th> <td> 0.000</td> <th>  Jarque-Bera (JB):  </th> <td>  52.053</td>\n",
       "</tr>\n",
       "<tr>\n",
       "  <th>Skew:</th>          <td> 0.808</td> <th>  Prob(JB):          </th> <td>4.97e-12</td>\n",
       "</tr>\n",
       "<tr>\n",
       "  <th>Kurtosis:</th>      <td> 4.174</td> <th>  Cond. No.          </th> <td>3.85e+04</td>\n",
       "</tr>\n",
       "</table><br/><br/>Notes:<br/>[1] Standard Errors assume that the covariance matrix of the errors is correctly specified.<br/>[2] The condition number is large, 3.85e+04. This might indicate that there are<br/>strong multicollinearity or other numerical problems."
      ],
      "text/plain": [
       "<class 'statsmodels.iolib.summary.Summary'>\n",
       "\"\"\"\n",
       "                            OLS Regression Results                            \n",
       "==============================================================================\n",
       "Dep. Variable:                    mpg   R-squared:                       0.717\n",
       "Model:                            OLS   Adj. R-squared:                  0.713\n",
       "Method:                 Least Squares   F-statistic:                     155.8\n",
       "Date:                Thu, 08 Jul 2021   Prob (F-statistic):           5.15e-82\n",
       "Time:                        14:26:05   Log-Likelihood:                -892.83\n",
       "No. Observations:                 313   AIC:                             1798.\n",
       "Df Residuals:                     307   BIC:                             1820.\n",
       "Df Model:                           5                                         \n",
       "Covariance Type:            nonrobust                                         \n",
       "================================================================================\n",
       "                   coef    std err          t      P>|t|      [0.025      0.975]\n",
       "--------------------------------------------------------------------------------\n",
       "Intercept       46.8339      2.931     15.977      0.000      41.066      52.602\n",
       "cylinders       -0.4935      0.466     -1.059      0.290      -1.410       0.423\n",
       "displacement     0.0046      0.010      0.443      0.658      -0.016       0.025\n",
       "horsepower      -0.0412      0.019     -2.190      0.029      -0.078      -0.004\n",
       "weight          -0.0058      0.001     -6.100      0.000      -0.008      -0.004\n",
       "acceleration     0.0187      0.142      0.132      0.895      -0.260       0.298\n",
       "==============================================================================\n",
       "Omnibus:                       37.720   Durbin-Watson:                   1.991\n",
       "Prob(Omnibus):                  0.000   Jarque-Bera (JB):               52.053\n",
       "Skew:                           0.808   Prob(JB):                     4.97e-12\n",
       "Kurtosis:                       4.174   Cond. No.                     3.85e+04\n",
       "==============================================================================\n",
       "\n",
       "Notes:\n",
       "[1] Standard Errors assume that the covariance matrix of the errors is correctly specified.\n",
       "[2] The condition number is large, 3.85e+04. This might indicate that there are\n",
       "strong multicollinearity or other numerical problems.\n",
       "\"\"\""
      ]
     },
     "execution_count": 7,
     "metadata": {},
     "output_type": "execute_result"
    }
   ],
   "source": [
    "model(X_train, X_test, y_train, y_test)"
   ]
  },
  {
   "cell_type": "code",
   "execution_count": 8,
   "id": "5320b646",
   "metadata": {
    "hidden": true
   },
   "outputs": [],
   "source": [
    "drop_high_p = X.drop(['cylinders', 'acceleration', 'displacement'], axis=1)\n",
    "X_train, X_test, y_train, y_test = train_test_split(drop_high_p, y, test_size=0.2)"
   ]
  },
  {
   "cell_type": "code",
   "execution_count": 9,
   "id": "861ea439",
   "metadata": {
    "hidden": true
   },
   "outputs": [
    {
     "name": "stdout",
     "output_type": "stream",
     "text": [
      "Train R2:  0.6910703128028071\n",
      "Test R2:  0.7706468496121195\n",
      "Train RMSE:  4.370152016069147\n",
      "Test RMSE:  3.6003948509871084\n"
     ]
    },
    {
     "data": {
      "text/html": [
       "<table class=\"simpletable\">\n",
       "<caption>OLS Regression Results</caption>\n",
       "<tr>\n",
       "  <th>Dep. Variable:</th>           <td>mpg</td>       <th>  R-squared:         </th> <td>   0.691</td>\n",
       "</tr>\n",
       "<tr>\n",
       "  <th>Model:</th>                   <td>OLS</td>       <th>  Adj. R-squared:    </th> <td>   0.689</td>\n",
       "</tr>\n",
       "<tr>\n",
       "  <th>Method:</th>             <td>Least Squares</td>  <th>  F-statistic:       </th> <td>   346.7</td>\n",
       "</tr>\n",
       "<tr>\n",
       "  <th>Date:</th>             <td>Thu, 08 Jul 2021</td> <th>  Prob (F-statistic):</th> <td>8.48e-80</td>\n",
       "</tr>\n",
       "<tr>\n",
       "  <th>Time:</th>                 <td>14:26:05</td>     <th>  Log-Likelihood:    </th> <td> -905.74</td>\n",
       "</tr>\n",
       "<tr>\n",
       "  <th>No. Observations:</th>      <td>   313</td>      <th>  AIC:               </th> <td>   1817.</td>\n",
       "</tr>\n",
       "<tr>\n",
       "  <th>Df Residuals:</th>          <td>   310</td>      <th>  BIC:               </th> <td>   1829.</td>\n",
       "</tr>\n",
       "<tr>\n",
       "  <th>Df Model:</th>              <td>     2</td>      <th>                     </th>     <td> </td>   \n",
       "</tr>\n",
       "<tr>\n",
       "  <th>Covariance Type:</th>      <td>nonrobust</td>    <th>                     </th>     <td> </td>   \n",
       "</tr>\n",
       "</table>\n",
       "<table class=\"simpletable\">\n",
       "<tr>\n",
       "       <td></td>         <th>coef</th>     <th>std err</th>      <th>t</th>      <th>P>|t|</th>  <th>[0.025</th>    <th>0.975]</th>  \n",
       "</tr>\n",
       "<tr>\n",
       "  <th>Intercept</th>  <td>   46.1103</td> <td>    0.937</td> <td>   49.193</td> <td> 0.000</td> <td>   44.266</td> <td>   47.955</td>\n",
       "</tr>\n",
       "<tr>\n",
       "  <th>horsepower</th> <td>   -0.0440</td> <td>    0.013</td> <td>   -3.304</td> <td> 0.001</td> <td>   -0.070</td> <td>   -0.018</td>\n",
       "</tr>\n",
       "<tr>\n",
       "  <th>weight</th>     <td>   -0.0060</td> <td>    0.001</td> <td>  -10.080</td> <td> 0.000</td> <td>   -0.007</td> <td>   -0.005</td>\n",
       "</tr>\n",
       "</table>\n",
       "<table class=\"simpletable\">\n",
       "<tr>\n",
       "  <th>Omnibus:</th>       <td>26.502</td> <th>  Durbin-Watson:     </th> <td>   1.875</td>\n",
       "</tr>\n",
       "<tr>\n",
       "  <th>Prob(Omnibus):</th> <td> 0.000</td> <th>  Jarque-Bera (JB):  </th> <td>  31.931</td>\n",
       "</tr>\n",
       "<tr>\n",
       "  <th>Skew:</th>          <td> 0.674</td> <th>  Prob(JB):          </th> <td>1.16e-07</td>\n",
       "</tr>\n",
       "<tr>\n",
       "  <th>Kurtosis:</th>      <td> 3.793</td> <th>  Cond. No.          </th> <td>1.17e+04</td>\n",
       "</tr>\n",
       "</table><br/><br/>Notes:<br/>[1] Standard Errors assume that the covariance matrix of the errors is correctly specified.<br/>[2] The condition number is large, 1.17e+04. This might indicate that there are<br/>strong multicollinearity or other numerical problems."
      ],
      "text/plain": [
       "<class 'statsmodels.iolib.summary.Summary'>\n",
       "\"\"\"\n",
       "                            OLS Regression Results                            \n",
       "==============================================================================\n",
       "Dep. Variable:                    mpg   R-squared:                       0.691\n",
       "Model:                            OLS   Adj. R-squared:                  0.689\n",
       "Method:                 Least Squares   F-statistic:                     346.7\n",
       "Date:                Thu, 08 Jul 2021   Prob (F-statistic):           8.48e-80\n",
       "Time:                        14:26:05   Log-Likelihood:                -905.74\n",
       "No. Observations:                 313   AIC:                             1817.\n",
       "Df Residuals:                     310   BIC:                             1829.\n",
       "Df Model:                           2                                         \n",
       "Covariance Type:            nonrobust                                         \n",
       "==============================================================================\n",
       "                 coef    std err          t      P>|t|      [0.025      0.975]\n",
       "------------------------------------------------------------------------------\n",
       "Intercept     46.1103      0.937     49.193      0.000      44.266      47.955\n",
       "horsepower    -0.0440      0.013     -3.304      0.001      -0.070      -0.018\n",
       "weight        -0.0060      0.001    -10.080      0.000      -0.007      -0.005\n",
       "==============================================================================\n",
       "Omnibus:                       26.502   Durbin-Watson:                   1.875\n",
       "Prob(Omnibus):                  0.000   Jarque-Bera (JB):               31.931\n",
       "Skew:                           0.674   Prob(JB):                     1.16e-07\n",
       "Kurtosis:                       3.793   Cond. No.                     1.17e+04\n",
       "==============================================================================\n",
       "\n",
       "Notes:\n",
       "[1] Standard Errors assume that the covariance matrix of the errors is correctly specified.\n",
       "[2] The condition number is large, 1.17e+04. This might indicate that there are\n",
       "strong multicollinearity or other numerical problems.\n",
       "\"\"\""
      ]
     },
     "execution_count": 9,
     "metadata": {},
     "output_type": "execute_result"
    }
   ],
   "source": [
    "model(X_train, X_test, y_train, y_test)"
   ]
  },
  {
   "cell_type": "markdown",
   "id": "0a67e6d7",
   "metadata": {},
   "source": [
    "### Importing from Script"
   ]
  },
  {
   "cell_type": "code",
   "execution_count": 10,
   "id": "629cde9a",
   "metadata": {},
   "outputs": [],
   "source": [
    "from functions import model as m\n",
    "\n",
    "data = pd.read_csv('auto-mpg.csv')\n",
    "y = data[['mpg']]\n",
    "X = data[['cylinders', 'displacement', 'horsepower', 'weight', 'acceleration']]\n",
    "\n",
    "X_train, X_test, y_train, y_test = train_test_split(X, y, test_size=0.2)"
   ]
  },
  {
   "cell_type": "code",
   "execution_count": 11,
   "id": "0e127986",
   "metadata": {},
   "outputs": [
    {
     "name": "stdout",
     "output_type": "stream",
     "text": [
      "Train R2:  0.7068357317618967\n",
      "Test R2:  0.7087046184140524\n",
      "Train RMSE:  4.258363974281484\n",
      "Test RMSE:  4.048195297780073\n"
     ]
    },
    {
     "data": {
      "text/html": [
       "<table class=\"simpletable\">\n",
       "<caption>OLS Regression Results</caption>\n",
       "<tr>\n",
       "  <th>Dep. Variable:</th>           <td>mpg</td>       <th>  R-squared:         </th> <td>   0.707</td>\n",
       "</tr>\n",
       "<tr>\n",
       "  <th>Model:</th>                   <td>OLS</td>       <th>  Adj. R-squared:    </th> <td>   0.702</td>\n",
       "</tr>\n",
       "<tr>\n",
       "  <th>Method:</th>             <td>Least Squares</td>  <th>  F-statistic:       </th> <td>   148.0</td>\n",
       "</tr>\n",
       "<tr>\n",
       "  <th>Date:</th>             <td>Thu, 08 Jul 2021</td> <th>  Prob (F-statistic):</th> <td>1.37e-79</td>\n",
       "</tr>\n",
       "<tr>\n",
       "  <th>Time:</th>                 <td>14:26:05</td>     <th>  Log-Likelihood:    </th> <td> -897.63</td>\n",
       "</tr>\n",
       "<tr>\n",
       "  <th>No. Observations:</th>      <td>   313</td>      <th>  AIC:               </th> <td>   1807.</td>\n",
       "</tr>\n",
       "<tr>\n",
       "  <th>Df Residuals:</th>          <td>   307</td>      <th>  BIC:               </th> <td>   1830.</td>\n",
       "</tr>\n",
       "<tr>\n",
       "  <th>Df Model:</th>              <td>     5</td>      <th>                     </th>     <td> </td>   \n",
       "</tr>\n",
       "<tr>\n",
       "  <th>Covariance Type:</th>      <td>nonrobust</td>    <th>                     </th>     <td> </td>   \n",
       "</tr>\n",
       "</table>\n",
       "<table class=\"simpletable\">\n",
       "<tr>\n",
       "        <td></td>          <th>coef</th>     <th>std err</th>      <th>t</th>      <th>P>|t|</th>  <th>[0.025</th>    <th>0.975]</th>  \n",
       "</tr>\n",
       "<tr>\n",
       "  <th>Intercept</th>    <td>   46.3287</td> <td>    2.991</td> <td>   15.490</td> <td> 0.000</td> <td>   40.443</td> <td>   52.214</td>\n",
       "</tr>\n",
       "<tr>\n",
       "  <th>cylinders</th>    <td>   -0.4721</td> <td>    0.465</td> <td>   -1.016</td> <td> 0.310</td> <td>   -1.386</td> <td>    0.442</td>\n",
       "</tr>\n",
       "<tr>\n",
       "  <th>displacement</th> <td>    0.0023</td> <td>    0.010</td> <td>    0.217</td> <td> 0.828</td> <td>   -0.018</td> <td>    0.023</td>\n",
       "</tr>\n",
       "<tr>\n",
       "  <th>horsepower</th>   <td>   -0.0405</td> <td>    0.019</td> <td>   -2.105</td> <td> 0.036</td> <td>   -0.078</td> <td>   -0.003</td>\n",
       "</tr>\n",
       "<tr>\n",
       "  <th>weight</th>       <td>   -0.0056</td> <td>    0.001</td> <td>   -5.404</td> <td> 0.000</td> <td>   -0.008</td> <td>   -0.004</td>\n",
       "</tr>\n",
       "<tr>\n",
       "  <th>acceleration</th> <td>    0.0052</td> <td>    0.148</td> <td>    0.035</td> <td> 0.972</td> <td>   -0.286</td> <td>    0.296</td>\n",
       "</tr>\n",
       "</table>\n",
       "<table class=\"simpletable\">\n",
       "<tr>\n",
       "  <th>Omnibus:</th>       <td>30.491</td> <th>  Durbin-Watson:     </th> <td>   2.116</td>\n",
       "</tr>\n",
       "<tr>\n",
       "  <th>Prob(Omnibus):</th> <td> 0.000</td> <th>  Jarque-Bera (JB):  </th> <td>  41.718</td>\n",
       "</tr>\n",
       "<tr>\n",
       "  <th>Skew:</th>          <td> 0.678</td> <th>  Prob(JB):          </th> <td>8.73e-10</td>\n",
       "</tr>\n",
       "<tr>\n",
       "  <th>Kurtosis:</th>      <td> 4.166</td> <th>  Cond. No.          </th> <td>3.84e+04</td>\n",
       "</tr>\n",
       "</table><br/><br/>Notes:<br/>[1] Standard Errors assume that the covariance matrix of the errors is correctly specified.<br/>[2] The condition number is large, 3.84e+04. This might indicate that there are<br/>strong multicollinearity or other numerical problems."
      ],
      "text/plain": [
       "<class 'statsmodels.iolib.summary.Summary'>\n",
       "\"\"\"\n",
       "                            OLS Regression Results                            \n",
       "==============================================================================\n",
       "Dep. Variable:                    mpg   R-squared:                       0.707\n",
       "Model:                            OLS   Adj. R-squared:                  0.702\n",
       "Method:                 Least Squares   F-statistic:                     148.0\n",
       "Date:                Thu, 08 Jul 2021   Prob (F-statistic):           1.37e-79\n",
       "Time:                        14:26:05   Log-Likelihood:                -897.63\n",
       "No. Observations:                 313   AIC:                             1807.\n",
       "Df Residuals:                     307   BIC:                             1830.\n",
       "Df Model:                           5                                         \n",
       "Covariance Type:            nonrobust                                         \n",
       "================================================================================\n",
       "                   coef    std err          t      P>|t|      [0.025      0.975]\n",
       "--------------------------------------------------------------------------------\n",
       "Intercept       46.3287      2.991     15.490      0.000      40.443      52.214\n",
       "cylinders       -0.4721      0.465     -1.016      0.310      -1.386       0.442\n",
       "displacement     0.0023      0.010      0.217      0.828      -0.018       0.023\n",
       "horsepower      -0.0405      0.019     -2.105      0.036      -0.078      -0.003\n",
       "weight          -0.0056      0.001     -5.404      0.000      -0.008      -0.004\n",
       "acceleration     0.0052      0.148      0.035      0.972      -0.286       0.296\n",
       "==============================================================================\n",
       "Omnibus:                       30.491   Durbin-Watson:                   2.116\n",
       "Prob(Omnibus):                  0.000   Jarque-Bera (JB):               41.718\n",
       "Skew:                           0.678   Prob(JB):                     8.73e-10\n",
       "Kurtosis:                       4.166   Cond. No.                     3.84e+04\n",
       "==============================================================================\n",
       "\n",
       "Notes:\n",
       "[1] Standard Errors assume that the covariance matrix of the errors is correctly specified.\n",
       "[2] The condition number is large, 3.84e+04. This might indicate that there are\n",
       "strong multicollinearity or other numerical problems.\n",
       "\"\"\""
      ]
     },
     "execution_count": 11,
     "metadata": {},
     "output_type": "execute_result"
    }
   ],
   "source": [
    "m(X_train, X_test, y_train, y_test)"
   ]
  },
  {
   "cell_type": "markdown",
   "id": "6a13e4f6",
   "metadata": {},
   "source": [
    "### Checking Assumptions"
   ]
  },
  {
   "cell_type": "code",
   "execution_count": 12,
   "id": "dbef794f",
   "metadata": {},
   "outputs": [
    {
     "data": {
      "text/html": [
       "<table class=\"simpletable\">\n",
       "<caption>OLS Regression Results</caption>\n",
       "<tr>\n",
       "  <th>Dep. Variable:</th>           <td>mpg</td>       <th>  R-squared:         </th> <td>   0.707</td> \n",
       "</tr>\n",
       "<tr>\n",
       "  <th>Model:</th>                   <td>OLS</td>       <th>  Adj. R-squared:    </th> <td>   0.704</td> \n",
       "</tr>\n",
       "<tr>\n",
       "  <th>Method:</th>             <td>Least Squares</td>  <th>  F-statistic:       </th> <td>   233.4</td> \n",
       "</tr>\n",
       "<tr>\n",
       "  <th>Date:</th>             <td>Thu, 08 Jul 2021</td> <th>  Prob (F-statistic):</th> <td>9.63e-102</td>\n",
       "</tr>\n",
       "<tr>\n",
       "  <th>Time:</th>                 <td>14:26:05</td>     <th>  Log-Likelihood:    </th> <td> -1120.6</td> \n",
       "</tr>\n",
       "<tr>\n",
       "  <th>No. Observations:</th>      <td>   392</td>      <th>  AIC:               </th> <td>   2251.</td> \n",
       "</tr>\n",
       "<tr>\n",
       "  <th>Df Residuals:</th>          <td>   387</td>      <th>  BIC:               </th> <td>   2271.</td> \n",
       "</tr>\n",
       "<tr>\n",
       "  <th>Df Model:</th>              <td>     4</td>      <th>                     </th>     <td> </td>    \n",
       "</tr>\n",
       "<tr>\n",
       "  <th>Covariance Type:</th>      <td>nonrobust</td>    <th>                     </th>     <td> </td>    \n",
       "</tr>\n",
       "</table>\n",
       "<table class=\"simpletable\">\n",
       "<tr>\n",
       "        <td></td>          <th>coef</th>     <th>std err</th>      <th>t</th>      <th>P>|t|</th>  <th>[0.025</th>    <th>0.975]</th>  \n",
       "</tr>\n",
       "<tr>\n",
       "  <th>Intercept</th>    <td>   45.2511</td> <td>    2.456</td> <td>   18.424</td> <td> 0.000</td> <td>   40.422</td> <td>   50.080</td>\n",
       "</tr>\n",
       "<tr>\n",
       "  <th>acceleration</th> <td>   -0.0231</td> <td>    0.126</td> <td>   -0.184</td> <td> 0.854</td> <td>   -0.270</td> <td>    0.224</td>\n",
       "</tr>\n",
       "<tr>\n",
       "  <th>weight</th>       <td>   -0.0053</td> <td>    0.001</td> <td>   -6.512</td> <td> 0.000</td> <td>   -0.007</td> <td>   -0.004</td>\n",
       "</tr>\n",
       "<tr>\n",
       "  <th>horsepower</th>   <td>   -0.0436</td> <td>    0.017</td> <td>   -2.631</td> <td> 0.009</td> <td>   -0.076</td> <td>   -0.011</td>\n",
       "</tr>\n",
       "<tr>\n",
       "  <th>displacement</th> <td>   -0.0060</td> <td>    0.007</td> <td>   -0.894</td> <td> 0.372</td> <td>   -0.019</td> <td>    0.007</td>\n",
       "</tr>\n",
       "</table>\n",
       "<table class=\"simpletable\">\n",
       "<tr>\n",
       "  <th>Omnibus:</th>       <td>38.359</td> <th>  Durbin-Watson:     </th> <td>   0.861</td>\n",
       "</tr>\n",
       "<tr>\n",
       "  <th>Prob(Omnibus):</th> <td> 0.000</td> <th>  Jarque-Bera (JB):  </th> <td>  51.333</td>\n",
       "</tr>\n",
       "<tr>\n",
       "  <th>Skew:</th>          <td> 0.715</td> <th>  Prob(JB):          </th> <td>7.13e-12</td>\n",
       "</tr>\n",
       "<tr>\n",
       "  <th>Kurtosis:</th>      <td> 4.049</td> <th>  Cond. No.          </th> <td>3.56e+04</td>\n",
       "</tr>\n",
       "</table><br/><br/>Notes:<br/>[1] Standard Errors assume that the covariance matrix of the errors is correctly specified.<br/>[2] The condition number is large, 3.56e+04. This might indicate that there are<br/>strong multicollinearity or other numerical problems."
      ],
      "text/plain": [
       "<class 'statsmodels.iolib.summary.Summary'>\n",
       "\"\"\"\n",
       "                            OLS Regression Results                            \n",
       "==============================================================================\n",
       "Dep. Variable:                    mpg   R-squared:                       0.707\n",
       "Model:                            OLS   Adj. R-squared:                  0.704\n",
       "Method:                 Least Squares   F-statistic:                     233.4\n",
       "Date:                Thu, 08 Jul 2021   Prob (F-statistic):          9.63e-102\n",
       "Time:                        14:26:05   Log-Likelihood:                -1120.6\n",
       "No. Observations:                 392   AIC:                             2251.\n",
       "Df Residuals:                     387   BIC:                             2271.\n",
       "Df Model:                           4                                         \n",
       "Covariance Type:            nonrobust                                         \n",
       "================================================================================\n",
       "                   coef    std err          t      P>|t|      [0.025      0.975]\n",
       "--------------------------------------------------------------------------------\n",
       "Intercept       45.2511      2.456     18.424      0.000      40.422      50.080\n",
       "acceleration    -0.0231      0.126     -0.184      0.854      -0.270       0.224\n",
       "weight          -0.0053      0.001     -6.512      0.000      -0.007      -0.004\n",
       "horsepower      -0.0436      0.017     -2.631      0.009      -0.076      -0.011\n",
       "displacement    -0.0060      0.007     -0.894      0.372      -0.019       0.007\n",
       "==============================================================================\n",
       "Omnibus:                       38.359   Durbin-Watson:                   0.861\n",
       "Prob(Omnibus):                  0.000   Jarque-Bera (JB):               51.333\n",
       "Skew:                           0.715   Prob(JB):                     7.13e-12\n",
       "Kurtosis:                       4.049   Cond. No.                     3.56e+04\n",
       "==============================================================================\n",
       "\n",
       "Notes:\n",
       "[1] Standard Errors assume that the covariance matrix of the errors is correctly specified.\n",
       "[2] The condition number is large, 3.56e+04. This might indicate that there are\n",
       "strong multicollinearity or other numerical problems.\n",
       "\"\"\""
      ]
     },
     "execution_count": 12,
     "metadata": {},
     "output_type": "execute_result"
    }
   ],
   "source": [
    "data = pd.read_csv('auto-mpg.csv')\n",
    "y = data[['mpg']]\n",
    "X = data[['cylinders', 'displacement', 'horsepower', 'weight', 'acceleration']]\n",
    "\n",
    "formula = 'mpg ~ acceleration+weight+horsepower+displacement'\n",
    "model = ols(formula=formula, data=data).fit()\n",
    "model.summary()"
   ]
  },
  {
   "cell_type": "markdown",
   "id": "bb24c253",
   "metadata": {},
   "source": [
    "### Normality and Homoscedasticity"
   ]
  },
  {
   "cell_type": "code",
   "execution_count": 13,
   "id": "c06a0242",
   "metadata": {},
   "outputs": [
    {
     "data": {
      "text/plain": [
       "0      -0.959192\n",
       "1      -1.188442\n",
       "2      -0.403250\n",
       "3      -2.479956\n",
       "4      -1.878269\n",
       "         ...    \n",
       "387     1.432973\n",
       "388    13.415469\n",
       "389     3.609309\n",
       "390     1.205861\n",
       "391     4.850850\n",
       "Length: 392, dtype: float64"
      ]
     },
     "execution_count": 13,
     "metadata": {},
     "output_type": "execute_result"
    }
   ],
   "source": [
    "y.values.flatten() - model.predict(X) "
   ]
  },
  {
   "cell_type": "code",
   "execution_count": 14,
   "id": "46622d21",
   "metadata": {},
   "outputs": [
    {
     "data": {
      "text/plain": [
       "0      -0.959192\n",
       "1      -1.188442\n",
       "2      -0.403250\n",
       "3      -2.479956\n",
       "4      -1.878269\n",
       "         ...    \n",
       "387     1.432973\n",
       "388    13.415469\n",
       "389     3.609309\n",
       "390     1.205861\n",
       "391     4.850850\n",
       "Length: 392, dtype: float64"
      ]
     },
     "execution_count": 14,
     "metadata": {},
     "output_type": "execute_result"
    }
   ],
   "source": [
    "model.resid # actual - prediction"
   ]
  },
  {
   "cell_type": "code",
   "execution_count": 16,
   "id": "f841b4a4",
   "metadata": {},
   "outputs": [],
   "source": [
    "import matplotlib.pyplot as plt"
   ]
  },
  {
   "cell_type": "code",
   "execution_count": 17,
   "id": "3113c164",
   "metadata": {},
   "outputs": [
    {
     "data": {
      "text/plain": [
       "(array([  3.,  18.,  67., 109., 100.,  54.,  26.,   6.,   6.,   3.]),\n",
       " array([-11.3780864 ,  -8.61471192,  -5.85133745,  -3.08796297,\n",
       "         -0.3245885 ,   2.43878598,   5.20216045,   7.96553493,\n",
       "         10.7289094 ,  13.49228388,  16.25565835]),\n",
       " <BarContainer object of 10 artists>)"
      ]
     },
     "execution_count": 17,
     "metadata": {},
     "output_type": "execute_result"
    },
    {
     "data": {
      "image/png": "[encoded data removed]",
      "text/plain": [
       "<Figure size 432x288 with 1 Axes>"
      ]
     },
     "metadata": {
      "needs_background": "light"
     },
     "output_type": "display_data"
    }
   ],
   "source": [
    "plt.hist(model.resid) # checking for normality of residuals"
   ]
  },
  {
   "cell_type": "code",
   "execution_count": 18,
   "id": "9aef153e",
   "metadata": {},
   "outputs": [
    {
     "name": "stderr",
     "output_type": "stream",
     "text": [
      "<ipython-input-18-87ceefcc01a4>:11: UserWarning: Matplotlib is currently using module://ipykernel.pylab.backend_inline, which is a non-GUI backend, so cannot show the figure.\n",
      "  fig.show()\n"
     ]
    },
    {
     "data": {
      "image/png": "[encoded data removed]",
      "text/plain": [
       "<Figure size 864x432 with 2 Axes>"
      ]
     },
     "metadata": {
      "needs_background": "light"
     },
     "output_type": "display_data"
    }
   ],
   "source": [
    "fig, axes = plt.subplots(1, 2, figsize=(12, 6))\n",
    "fig.suptitle('Residual Plots')\n",
    "\n",
    "axes[0].scatter(y, model.resid)\n",
    "axes[0].set(xlabel='Actual MPG', ylabel='residual', title='Residual per MPG')\n",
    "axes[0].hlines(0, xmin=5, xmax=50, colors='red')\n",
    "\n",
    "axes[1].scatter(y, model.predict(X))\n",
    "axes[1].plot([10, 45], [10, 45], color='red', linestyle='-')\n",
    "axes[1].set(xlabel='Actual MPG', ylabel='Predicted MPG', title='Actual vs Predicted MPG')\n",
    "fig.show()"
   ]
  },
  {
   "cell_type": "code",
   "execution_count": 19,
   "id": "3509026a",
   "metadata": {},
   "outputs": [
    {
     "name": "stdout",
     "output_type": "stream",
     "text": [
      "Train R2:  0.7149397778914311\n",
      "Test R2:  0.6695935433550342\n",
      "Train RMSE:  4.212375095902508\n",
      "Test RMSE:  4.256536505326308\n"
     ]
    }
   ],
   "source": [
    "linreg = LinearRegression()\n",
    "X_train, X_test, y_train, y_test = train_test_split(X, y, test_size=0.2)\n",
    "linreg.fit(X_train, y_train)\n",
    "\n",
    "y_hat_train = linreg.predict(X_train)\n",
    "y_hat_test = linreg.predict(X_test)\n",
    "\n",
    "train_mse = mean_squared_error(y_train, y_hat_train)\n",
    "test_mse = mean_squared_error(y_test, y_hat_test)\n",
    "\n",
    "print(\"Train R2: \", linreg.score(X_train, y_train))\n",
    "print(\"Test R2: \", linreg.score(X_test, y_test))\n",
    "\n",
    "print(\"Train RMSE: \", train_mse**0.5)\n",
    "print(\"Test RMSE: \", test_mse**0.5)"
   ]
  },
  {
   "cell_type": "code",
   "execution_count": 20,
   "id": "4329f151",
   "metadata": {},
   "outputs": [
    {
     "name": "stderr",
     "output_type": "stream",
     "text": [
      "<ipython-input-20-8fada1bc017f>:13: UserWarning: Matplotlib is currently using module://ipykernel.pylab.backend_inline, which is a non-GUI backend, so cannot show the figure.\n",
      "  fig.show()\n"
     ]
    },
    {
     "data": {
      "image/png": "[encoded data removed]",
      "text/plain": [
       "<Figure size 864x432 with 2 Axes>"
      ]
     },
     "metadata": {
      "needs_background": "light"
     },
     "output_type": "display_data"
    }
   ],
   "source": [
    "fig, axes = plt.subplots(1, 2, figsize=(12, 6))\n",
    "fig.suptitle('Residual Plots')\n",
    "\n",
    "axes[0].scatter(y_train, y_train-y_hat_train)\n",
    "axes[0].scatter(y_test, y_test-y_hat_test, color='orange')\n",
    "axes[0].set(xlabel='Actual MPG', ylabel='residual', title='Residual per MPG')\n",
    "axes[0].hlines(0, xmin=5, xmax=50, colors='red')\n",
    "\n",
    "axes[1].scatter(y_train, y_hat_train)\n",
    "axes[1].scatter(y_test, y_hat_test, color='orange')\n",
    "axes[1].plot([10, 45], [10, 45], color='red', linestyle='-')\n",
    "axes[1].set(xlabel='Actual MPG', ylabel='Predicted MPG', title='Actual vs Predicted MPG')\n",
    "fig.show()"
   ]
  },
  {
   "cell_type": "code",
   "execution_count": null,
   "id": "a57ccd9f",
   "metadata": {},
   "outputs": [],
   "source": []
  }
 ],
 "metadata": {
  "kernelspec": {
   "display_name": "Python 3",
   "language": "python",
   "name": "python3"
  },
  "language_info": {
   "codemirror_mode": {
    "name": "ipython",
    "version": 3
   },
   "file_extension": ".py",
   "mimetype": "text/x-python",
   "name": "python",
   "nbconvert_exporter": "python",
   "pygments_lexer": "ipython3",
   "version": "3.9.5"
  },
  "toc": {
   "base_numbering": 1,
   "nav_menu": {},
   "number_sections": false,
   "sideBar": true,
   "skip_h1_title": false,
   "title_cell": "Table of Contents",
   "title_sidebar": "Contents",
   "toc_cell": false,
   "toc_position": {
    "height": "calc(100% - 180px)",
    "left": "10px",
    "top": "150px",
    "width": "165px"
   },
   "toc_section_display": true,
   "toc_window_display": true
  }
 },
 "nbformat": 4,
 "nbformat_minor": 5
}
